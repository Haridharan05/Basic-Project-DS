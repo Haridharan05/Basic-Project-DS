{
  "nbformat": 4,
  "nbformat_minor": 0,
  "metadata": {
    "colab": {
      "name": "credit card fraud detection project .ipynb",
      "provenance": [],
      "authorship_tag": "ABX9TyOHTTlZbu8tzoFmSVl+89Dt",
      "include_colab_link": true
    },
    "kernelspec": {
      "name": "python3",
      "display_name": "Python 3"
    },
    "language_info": {
      "name": "python"
    }
  },
  "cells": [
    {
      "cell_type": "markdown",
      "metadata": {
        "id": "view-in-github",
        "colab_type": "text"
      },
      "source": [
        "<a href=\"https://colab.research.google.com/github/Haridharan05/Basic-Project-DS/blob/main/credit_card_fraud_detection_project_.ipynb\" target=\"_parent\"><img src=\"https://colab.research.google.com/assets/colab-badge.svg\" alt=\"Open In Colab\"/></a>"
      ]
    },
    {
      "cell_type": "code",
      "execution_count": 56,
      "metadata": {
        "id": "sY611AQwa6dR"
      },
      "outputs": [],
      "source": [
        "import pandas as pd\n",
        "import seaborn as sns\n",
        "import numpy as np"
      ]
    },
    {
      "cell_type": "code",
      "source": [
        "data = pd.read_csv(\"/content/cc.csv\")"
      ],
      "metadata": {
        "id": "zETOKyGLbGcv"
      },
      "execution_count": 57,
      "outputs": []
    },
    {
      "cell_type": "code",
      "source": [
        "data.tail()"
      ],
      "metadata": {
        "colab": {
          "base_uri": "https://localhost:8080/",
          "height": 292
        },
        "id": "e9v2Q-3hcUJA",
        "outputId": "87115536-a1e0-4f41-8342-a9b3eb03ca51"
      },
      "execution_count": 58,
      "outputs": [
        {
          "output_type": "execute_result",
          "data": {
            "text/plain": [
              "         Time        V1        V2        V3        V4        V5        V6  \\\n",
              "108377  70870  1.163623 -0.298481  0.997601  0.776087 -0.927591 -0.028870   \n",
              "108378  70870 -2.015322 -0.769885  0.141497  1.882541 -2.473437  1.050718   \n",
              "108379  70870 -0.529927  0.376538  1.284628 -2.010734  2.798080  3.737004   \n",
              "108380  70870 -0.926939  0.461009  1.164578 -0.544890 -0.538038 -0.081840   \n",
              "108381  70870 -0.925583  1.195762  1.082234  1.332040 -0.175901  0.292408   \n",
              "\n",
              "              V7        V8        V9  ...       V21       V22       V23  \\\n",
              "108377 -0.635023  0.126963  1.043437  ... -0.114195 -0.219307 -0.048018   \n",
              "108378  2.881227  0.285992 -0.739290  ...  0.471707  0.240793  1.732952   \n",
              "108379  0.891548 -0.277812  0.496152  ... -0.384074 -0.658780 -0.371634   \n",
              "108380 -0.198263  0.607792 -1.646494  ... -0.302337 -0.295319  0.008905   \n",
              "108381  0.714470  0.465072 -1.610499  ...  0.218730  0.409898 -0.057179   \n",
              "\n",
              "             V24       V25       V26       V27       V28  Amount  Class  \n",
              "108377 -0.092194  0.292444  0.346831  0.007686  0.025716   36.02      0  \n",
              "108378  0.323477  0.191392 -0.264533  0.038436  0.199038  769.99      0  \n",
              "108379  1.033411 -0.105515  0.642283 -1.381414 -1.061142   15.26      0  \n",
              "108380  0.232580 -0.249280  0.309578  0.249101  0.094024   14.00      0  \n",
              "108381  0.031971  0.403252 -0.063161 -0.053336  0.012985  104.94      0  \n",
              "\n",
              "[5 rows x 31 columns]"
            ],
            "text/html": [
              "\n",
              "  <div id=\"df-d07038b7-972d-4c14-989f-bc649fe05d0f\">\n",
              "    <div class=\"colab-df-container\">\n",
              "      <div>\n",
              "<style scoped>\n",
              "    .dataframe tbody tr th:only-of-type {\n",
              "        vertical-align: middle;\n",
              "    }\n",
              "\n",
              "    .dataframe tbody tr th {\n",
              "        vertical-align: top;\n",
              "    }\n",
              "\n",
              "    .dataframe thead th {\n",
              "        text-align: right;\n",
              "    }\n",
              "</style>\n",
              "<table border=\"1\" class=\"dataframe\">\n",
              "  <thead>\n",
              "    <tr style=\"text-align: right;\">\n",
              "      <th></th>\n",
              "      <th>Time</th>\n",
              "      <th>V1</th>\n",
              "      <th>V2</th>\n",
              "      <th>V3</th>\n",
              "      <th>V4</th>\n",
              "      <th>V5</th>\n",
              "      <th>V6</th>\n",
              "      <th>V7</th>\n",
              "      <th>V8</th>\n",
              "      <th>V9</th>\n",
              "      <th>...</th>\n",
              "      <th>V21</th>\n",
              "      <th>V22</th>\n",
              "      <th>V23</th>\n",
              "      <th>V24</th>\n",
              "      <th>V25</th>\n",
              "      <th>V26</th>\n",
              "      <th>V27</th>\n",
              "      <th>V28</th>\n",
              "      <th>Amount</th>\n",
              "      <th>Class</th>\n",
              "    </tr>\n",
              "  </thead>\n",
              "  <tbody>\n",
              "    <tr>\n",
              "      <th>108377</th>\n",
              "      <td>70870</td>\n",
              "      <td>1.163623</td>\n",
              "      <td>-0.298481</td>\n",
              "      <td>0.997601</td>\n",
              "      <td>0.776087</td>\n",
              "      <td>-0.927591</td>\n",
              "      <td>-0.028870</td>\n",
              "      <td>-0.635023</td>\n",
              "      <td>0.126963</td>\n",
              "      <td>1.043437</td>\n",
              "      <td>...</td>\n",
              "      <td>-0.114195</td>\n",
              "      <td>-0.219307</td>\n",
              "      <td>-0.048018</td>\n",
              "      <td>-0.092194</td>\n",
              "      <td>0.292444</td>\n",
              "      <td>0.346831</td>\n",
              "      <td>0.007686</td>\n",
              "      <td>0.025716</td>\n",
              "      <td>36.02</td>\n",
              "      <td>0</td>\n",
              "    </tr>\n",
              "    <tr>\n",
              "      <th>108378</th>\n",
              "      <td>70870</td>\n",
              "      <td>-2.015322</td>\n",
              "      <td>-0.769885</td>\n",
              "      <td>0.141497</td>\n",
              "      <td>1.882541</td>\n",
              "      <td>-2.473437</td>\n",
              "      <td>1.050718</td>\n",
              "      <td>2.881227</td>\n",
              "      <td>0.285992</td>\n",
              "      <td>-0.739290</td>\n",
              "      <td>...</td>\n",
              "      <td>0.471707</td>\n",
              "      <td>0.240793</td>\n",
              "      <td>1.732952</td>\n",
              "      <td>0.323477</td>\n",
              "      <td>0.191392</td>\n",
              "      <td>-0.264533</td>\n",
              "      <td>0.038436</td>\n",
              "      <td>0.199038</td>\n",
              "      <td>769.99</td>\n",
              "      <td>0</td>\n",
              "    </tr>\n",
              "    <tr>\n",
              "      <th>108379</th>\n",
              "      <td>70870</td>\n",
              "      <td>-0.529927</td>\n",
              "      <td>0.376538</td>\n",
              "      <td>1.284628</td>\n",
              "      <td>-2.010734</td>\n",
              "      <td>2.798080</td>\n",
              "      <td>3.737004</td>\n",
              "      <td>0.891548</td>\n",
              "      <td>-0.277812</td>\n",
              "      <td>0.496152</td>\n",
              "      <td>...</td>\n",
              "      <td>-0.384074</td>\n",
              "      <td>-0.658780</td>\n",
              "      <td>-0.371634</td>\n",
              "      <td>1.033411</td>\n",
              "      <td>-0.105515</td>\n",
              "      <td>0.642283</td>\n",
              "      <td>-1.381414</td>\n",
              "      <td>-1.061142</td>\n",
              "      <td>15.26</td>\n",
              "      <td>0</td>\n",
              "    </tr>\n",
              "    <tr>\n",
              "      <th>108380</th>\n",
              "      <td>70870</td>\n",
              "      <td>-0.926939</td>\n",
              "      <td>0.461009</td>\n",
              "      <td>1.164578</td>\n",
              "      <td>-0.544890</td>\n",
              "      <td>-0.538038</td>\n",
              "      <td>-0.081840</td>\n",
              "      <td>-0.198263</td>\n",
              "      <td>0.607792</td>\n",
              "      <td>-1.646494</td>\n",
              "      <td>...</td>\n",
              "      <td>-0.302337</td>\n",
              "      <td>-0.295319</td>\n",
              "      <td>0.008905</td>\n",
              "      <td>0.232580</td>\n",
              "      <td>-0.249280</td>\n",
              "      <td>0.309578</td>\n",
              "      <td>0.249101</td>\n",
              "      <td>0.094024</td>\n",
              "      <td>14.00</td>\n",
              "      <td>0</td>\n",
              "    </tr>\n",
              "    <tr>\n",
              "      <th>108381</th>\n",
              "      <td>70870</td>\n",
              "      <td>-0.925583</td>\n",
              "      <td>1.195762</td>\n",
              "      <td>1.082234</td>\n",
              "      <td>1.332040</td>\n",
              "      <td>-0.175901</td>\n",
              "      <td>0.292408</td>\n",
              "      <td>0.714470</td>\n",
              "      <td>0.465072</td>\n",
              "      <td>-1.610499</td>\n",
              "      <td>...</td>\n",
              "      <td>0.218730</td>\n",
              "      <td>0.409898</td>\n",
              "      <td>-0.057179</td>\n",
              "      <td>0.031971</td>\n",
              "      <td>0.403252</td>\n",
              "      <td>-0.063161</td>\n",
              "      <td>-0.053336</td>\n",
              "      <td>0.012985</td>\n",
              "      <td>104.94</td>\n",
              "      <td>0</td>\n",
              "    </tr>\n",
              "  </tbody>\n",
              "</table>\n",
              "<p>5 rows × 31 columns</p>\n",
              "</div>\n",
              "      <button class=\"colab-df-convert\" onclick=\"convertToInteractive('df-d07038b7-972d-4c14-989f-bc649fe05d0f')\"\n",
              "              title=\"Convert this dataframe to an interactive table.\"\n",
              "              style=\"display:none;\">\n",
              "        \n",
              "  <svg xmlns=\"http://www.w3.org/2000/svg\" height=\"24px\"viewBox=\"0 0 24 24\"\n",
              "       width=\"24px\">\n",
              "    <path d=\"M0 0h24v24H0V0z\" fill=\"none\"/>\n",
              "    <path d=\"M18.56 5.44l.94 2.06.94-2.06 2.06-.94-2.06-.94-.94-2.06-.94 2.06-2.06.94zm-11 1L8.5 8.5l.94-2.06 2.06-.94-2.06-.94L8.5 2.5l-.94 2.06-2.06.94zm10 10l.94 2.06.94-2.06 2.06-.94-2.06-.94-.94-2.06-.94 2.06-2.06.94z\"/><path d=\"M17.41 7.96l-1.37-1.37c-.4-.4-.92-.59-1.43-.59-.52 0-1.04.2-1.43.59L10.3 9.45l-7.72 7.72c-.78.78-.78 2.05 0 2.83L4 21.41c.39.39.9.59 1.41.59.51 0 1.02-.2 1.41-.59l7.78-7.78 2.81-2.81c.8-.78.8-2.07 0-2.86zM5.41 20L4 18.59l7.72-7.72 1.47 1.35L5.41 20z\"/>\n",
              "  </svg>\n",
              "      </button>\n",
              "      \n",
              "  <style>\n",
              "    .colab-df-container {\n",
              "      display:flex;\n",
              "      flex-wrap:wrap;\n",
              "      gap: 12px;\n",
              "    }\n",
              "\n",
              "    .colab-df-convert {\n",
              "      background-color: #E8F0FE;\n",
              "      border: none;\n",
              "      border-radius: 50%;\n",
              "      cursor: pointer;\n",
              "      display: none;\n",
              "      fill: #1967D2;\n",
              "      height: 32px;\n",
              "      padding: 0 0 0 0;\n",
              "      width: 32px;\n",
              "    }\n",
              "\n",
              "    .colab-df-convert:hover {\n",
              "      background-color: #E2EBFA;\n",
              "      box-shadow: 0px 1px 2px rgba(60, 64, 67, 0.3), 0px 1px 3px 1px rgba(60, 64, 67, 0.15);\n",
              "      fill: #174EA6;\n",
              "    }\n",
              "\n",
              "    [theme=dark] .colab-df-convert {\n",
              "      background-color: #3B4455;\n",
              "      fill: #D2E3FC;\n",
              "    }\n",
              "\n",
              "    [theme=dark] .colab-df-convert:hover {\n",
              "      background-color: #434B5C;\n",
              "      box-shadow: 0px 1px 3px 1px rgba(0, 0, 0, 0.15);\n",
              "      filter: drop-shadow(0px 1px 2px rgba(0, 0, 0, 0.3));\n",
              "      fill: #FFFFFF;\n",
              "    }\n",
              "  </style>\n",
              "\n",
              "      <script>\n",
              "        const buttonEl =\n",
              "          document.querySelector('#df-d07038b7-972d-4c14-989f-bc649fe05d0f button.colab-df-convert');\n",
              "        buttonEl.style.display =\n",
              "          google.colab.kernel.accessAllowed ? 'block' : 'none';\n",
              "\n",
              "        async function convertToInteractive(key) {\n",
              "          const element = document.querySelector('#df-d07038b7-972d-4c14-989f-bc649fe05d0f');\n",
              "          const dataTable =\n",
              "            await google.colab.kernel.invokeFunction('convertToInteractive',\n",
              "                                                     [key], {});\n",
              "          if (!dataTable) return;\n",
              "\n",
              "          const docLinkHtml = 'Like what you see? Visit the ' +\n",
              "            '<a target=\"_blank\" href=https://colab.research.google.com/notebooks/data_table.ipynb>data table notebook</a>'\n",
              "            + ' to learn more about interactive tables.';\n",
              "          element.innerHTML = '';\n",
              "          dataTable['output_type'] = 'display_data';\n",
              "          await google.colab.output.renderOutput(dataTable, element);\n",
              "          const docLink = document.createElement('div');\n",
              "          docLink.innerHTML = docLinkHtml;\n",
              "          element.appendChild(docLink);\n",
              "        }\n",
              "      </script>\n",
              "    </div>\n",
              "  </div>\n",
              "  "
            ]
          },
          "metadata": {},
          "execution_count": 58
        }
      ]
    },
    {
      "cell_type": "code",
      "source": [
        "bins = (0,1)\n",
        "health = ['depit','credit']\n",
        "data['Class'] = pd.qcut(data['Class'],q=5 , duplicates='drop')\n"
      ],
      "metadata": {
        "id": "5dewW8NDHqfp"
      },
      "execution_count": null,
      "outputs": []
    },
    {
      "cell_type": "code",
      "source": [
        "data.isnull()\n",
        "data.isnull().sum().sum()\n",
        "data.dropna(inplace = True)"
      ],
      "metadata": {
        "id": "HhIPdsALDgdJ"
      },
      "execution_count": 59,
      "outputs": []
    },
    {
      "cell_type": "code",
      "source": [
        "fraud = data.loc[data['Class'] == 1]\n",
        "normal = data.loc[data['Class'] == 0]"
      ],
      "metadata": {
        "id": "IdHnMLZEcvKW"
      },
      "execution_count": 60,
      "outputs": []
    },
    {
      "cell_type": "code",
      "source": [
        "len(fraud)"
      ],
      "metadata": {
        "colab": {
          "base_uri": "https://localhost:8080/"
        },
        "id": "GI3t-In0c7ta",
        "outputId": "fa10a8cf-31e7-4f7c-a4b1-f9c904795aae"
      },
      "execution_count": 61,
      "outputs": [
        {
          "output_type": "execute_result",
          "data": {
            "text/plain": [
              "238"
            ]
          },
          "metadata": {},
          "execution_count": 61
        }
      ]
    },
    {
      "cell_type": "code",
      "source": [
        "len(normal)"
      ],
      "metadata": {
        "colab": {
          "base_uri": "https://localhost:8080/"
        },
        "id": "RgZf3MvXdUrG",
        "outputId": "d83f1284-c749-449e-c2cb-8528e8943d97"
      },
      "execution_count": 62,
      "outputs": [
        {
          "output_type": "execute_result",
          "data": {
            "text/plain": [
              "108144"
            ]
          },
          "metadata": {},
          "execution_count": 62
        }
      ]
    },
    {
      "cell_type": "code",
      "source": [
        "sns.relplot(x= 'Amount' , y = 'Time', hue = 'Class' , data=data)"
      ],
      "metadata": {
        "colab": {
          "base_uri": "https://localhost:8080/",
          "height": 384
        },
        "id": "GbHtkwocdXFg",
        "outputId": "27734a08-9703-4b7f-e4e6-f7193ea691f4"
      },
      "execution_count": 63,
      "outputs": [
        {
          "output_type": "execute_result",
          "data": {
            "text/plain": [
              "<seaborn.axisgrid.FacetGrid at 0x7fd93fdfad10>"
            ]
          },
          "metadata": {},
          "execution_count": 63
        },
        {
          "output_type": "display_data",
          "data": {
            "text/plain": [
              "<Figure size 402.375x360 with 1 Axes>"
            ],
            "image/png": "[encoded data removed]"
          },
          "metadata": {
            "needs_background": "light"
          }
        }
      ]
    },
    {
      "cell_type": "code",
      "source": [
        "from sklearn import linear_model\n",
        "from sklearn.model_selection import train_test_split\n",
        "from sklearn.linear_model import LinearRegression\n",
        "from sklearn.preprocessing import StandardScaler,LabelEncoder\n"
      ],
      "metadata": {
        "id": "1ufZYHK4eUux"
      },
      "execution_count": 64,
      "outputs": []
    },
    {
      "cell_type": "code",
      "source": [
        "x = data.iloc[:,:-1]\n",
        "y = data['Class']"
      ],
      "metadata": {
        "id": "t2_Jjq-fescG"
      },
      "execution_count": 65,
      "outputs": []
    },
    {
      "cell_type": "code",
      "source": [
        "x_train,x_test,y_train,y_test = train_test_split(x,y,test_size = 0.35)"
      ],
      "metadata": {
        "id": "OHwEhXZEe0ne"
      },
      "execution_count": 66,
      "outputs": []
    },
    {
      "cell_type": "code",
      "source": [
        "s = StandardScaler()\n",
        "x_train = s.fit_transform(x_train)\n",
        "x_test = s.transform(x_test)"
      ],
      "metadata": {
        "id": "BA1k0k3wF5Fb"
      },
      "execution_count": 67,
      "outputs": []
    },
    {
      "cell_type": "code",
      "source": [
        "clf = linear_model.LogisticRegression(C=1e5)"
      ],
      "metadata": {
        "id": "CMZZSdd1fBSv"
      },
      "execution_count": 68,
      "outputs": []
    },
    {
      "cell_type": "code",
      "source": [
        "clf . fit (x_train , y_train )"
      ],
      "metadata": {
        "colab": {
          "base_uri": "https://localhost:8080/"
        },
        "id": "Kbzx9vGBfgrX",
        "outputId": "b655ae02-c937-466d-91c6-e5d3708c6d50"
      },
      "execution_count": 69,
      "outputs": [
        {
          "output_type": "stream",
          "name": "stderr",
          "text": [
            "/usr/local/lib/python3.7/dist-packages/sklearn/linear_model/_logistic.py:818: ConvergenceWarning: lbfgs failed to converge (status=1):\n",
            "STOP: TOTAL NO. of ITERATIONS REACHED LIMIT.\n",
            "\n",
            "Increase the number of iterations (max_iter) or scale the data as shown in:\n",
            "    https://scikit-learn.org/stable/modules/preprocessing.html\n",
            "Please also refer to the documentation for alternative solver options:\n",
            "    https://scikit-learn.org/stable/modules/linear_model.html#logistic-regression\n",
            "  extra_warning_msg=_LOGISTIC_SOLVER_CONVERGENCE_MSG,\n"
          ]
        },
        {
          "output_type": "execute_result",
          "data": {
            "text/plain": [
              "LogisticRegression(C=100000.0)"
            ]
          },
          "metadata": {},
          "execution_count": 69
        }
      ]
    },
    {
      "cell_type": "code",
      "source": [
        "y_pred = np.array (clf.predict (x_test))\n",
        "y = np . array (y_test)"
      ],
      "metadata": {
        "id": "S6EJcjecgcqC"
      },
      "execution_count": 70,
      "outputs": []
    },
    {
      "cell_type": "code",
      "source": [
        "from sklearn.metrics import confusion_matrix , classification_report , accuracy_score"
      ],
      "metadata": {
        "id": "0D69TomDkQaS"
      },
      "execution_count": 71,
      "outputs": []
    },
    {
      "cell_type": "code",
      "source": [
        "print (confusion_matrix(y_test,y_pred))"
      ],
      "metadata": {
        "colab": {
          "base_uri": "https://localhost:8080/"
        },
        "id": "QDgzpFtmkdBH",
        "outputId": "6a678dd0-358e-420d-d2ad-495bb02abffa"
      },
      "execution_count": 72,
      "outputs": [
        {
          "output_type": "stream",
          "name": "stdout",
          "text": [
            "[[37836    17]\n",
            " [   34    47]]\n"
          ]
        }
      ]
    },
    {
      "cell_type": "code",
      "source": [
        "print(accuracy_score(y,y_pred))"
      ],
      "metadata": {
        "colab": {
          "base_uri": "https://localhost:8080/"
        },
        "id": "bzsLsBCJEQiW",
        "outputId": "e445c802-655b-4a5e-bae1-8d61b7f279bb"
      },
      "execution_count": 73,
      "outputs": [
        {
          "output_type": "stream",
          "name": "stdout",
          "text": [
            "0.9986555596562451\n"
          ]
        }
      ]
    },
    {
      "cell_type": "code",
      "source": [
        "print(classification_report(y,y_pred))"
      ],
      "metadata": {
        "colab": {
          "base_uri": "https://localhost:8080/"
        },
        "id": "kMJJMIrvEUv-",
        "outputId": "5880723e-ea0f-44bc-aec0-faa73d607ce8"
      },
      "execution_count": 74,
      "outputs": [
        {
          "output_type": "stream",
          "name": "stdout",
          "text": [
            "              precision    recall  f1-score   support\n",
            "\n",
            "           0       1.00      1.00      1.00     37853\n",
            "           1       0.73      0.58      0.65        81\n",
            "\n",
            "    accuracy                           1.00     37934\n",
            "   macro avg       0.87      0.79      0.82     37934\n",
            "weighted avg       1.00      1.00      1.00     37934\n",
            "\n"
          ]
        }
      ]
    },
    {
      "cell_type": "code",
      "source": [
        "a = [[-0.54,-0.54,-0.54,-0.54,-0.54,-0.54,-0.54,-0.54,-0.54,-0.54,-0.54,-0.54,-0.54,-0.54,-0.54,-0.54,-0.54,-0.54,-0.54,-0.54,-0.54,-0.54,-0.54,-0.54,-0.54,-0.54,-0.54,-0.54,-0.54,-0.54,]]\n",
        "a = s.transform(a)\n",
        "b = clf.predict(a)"
      ],
      "metadata": {
        "colab": {
          "base_uri": "https://localhost:8080/"
        },
        "id": "ORMIL2TxEsFX",
        "outputId": "b5ca27a8-bdc6-44fa-b5f6-3483550cddea"
      },
      "execution_count": 95,
      "outputs": [
        {
          "output_type": "stream",
          "name": "stderr",
          "text": [
            "/usr/local/lib/python3.7/dist-packages/sklearn/base.py:451: UserWarning: X does not have valid feature names, but StandardScaler was fitted with feature names\n",
            "  \"X does not have valid feature names, but\"\n"
          ]
        }
      ]
    },
    {
      "cell_type": "code",
      "source": [
        "b"
      ],
      "metadata": {
        "colab": {
          "base_uri": "https://localhost:8080/"
        },
        "id": "x5Hytd22HXIE",
        "outputId": "8bbde8f2-099d-4887-b6ea-bbdee8c9611d"
      },
      "execution_count": 96,
      "outputs": [
        {
          "output_type": "execute_result",
          "data": {
            "text/plain": [
              "array([0])"
            ]
          },
          "metadata": {},
          "execution_count": 96
        }
      ]
    },
    {
      "cell_type": "code",
      "source": [
        "fraud.value_counts()"
      ],
      "metadata": {
        "colab": {
          "base_uri": "https://localhost:8080/"
        },
        "id": "ooS4oWtjLD3h",
        "outputId": "07bac361-cd8a-423d-cb37-47a307907f2d"
      },
      "execution_count": 99,
      "outputs": [
        {
          "output_type": "execute_result",
          "data": {
            "text/plain": [
              "Time   V1          V2          V3         V4         V5         V6         V7          V8          V9         V10        V11        V12        V13        V14         V15        V16        V17        V18        V19        V20        V21         V22        V23        V24        V25        V26        V27        V28        Amount  Class\n",
              "68207  -13.192671   12.785971  -9.906650   3.320337  -4.801176   5.760059  -18.750889  -37.353443  -0.391540  -5.052502   4.406806  -4.610756  -1.909488  -9.072711   -0.226074  -6.211557  -6.248145  -3.149247   0.051576  -3.493050   27.202839  -8.887017   5.303607  -0.639435   0.263203  -0.108877   1.269566   0.939407  1.00    1        6\n",
              "406    -2.312227    1.951992   -1.609851   3.997906  -0.522188  -1.426545  -2.537387    1.391657   -2.770089  -2.772272   3.202033  -2.899907  -0.595222  -4.289254    0.389724  -1.140747  -2.830056  -0.016822   0.416956   0.126911   0.517232   -0.035049  -0.465211   0.320198   0.044519   0.177840   0.261145  -0.143276  0.00    1        1\n",
              "48380  -2.790771   -1.464269    1.031165   1.921356  -0.090014  -0.483871   0.780731   -0.348776    0.609133   0.225934  -1.064534  -0.787373  -1.576470  -0.126756    0.367012  -0.635322   0.327006   0.043816   1.403574  -1.376721  -0.392667    0.440020   0.777659   0.418552   0.244563  -0.159361   0.060540   0.356958  208.58  1        1\n",
              "44393  -4.617461    3.663395   -5.297446   3.880960  -3.263551  -0.918547  -5.715262    0.831040   -2.457034  -5.726817   3.525726  -6.489112  -1.012791  -7.052311    0.784445  -6.773977  -8.588070  -4.510892   1.147878  -0.346456   2.698175   -0.027081   0.366775  -0.123011  -0.300457  -0.239996  -0.183463  -0.073360  1.00    1        1\n",
              "44532  -0.234922    0.355413    1.972183  -1.255593  -0.681387  -0.665732   0.059110   -0.003153    1.122451  -1.481246  -0.473852   0.922184   0.913514  -0.499350    0.933898  -0.560472  -0.207707   0.380542   0.574336  -0.003469   0.220670    0.912107  -0.286338   0.451208   0.188315  -0.531846   0.123185   0.039581  1.00    1        1\n",
              "                                                                                                                                                                                                                                                                                                                                                 ..\n",
              "29531  -1.060676    2.608579   -2.971679   4.360089   3.738853  -2.728395   1.987616   -0.357345   -2.757535  -2.335933   2.111517  -2.591950  -1.950589  -7.311580    0.077753   2.290608   6.509272   2.569971  -3.286150  -0.089062  -0.063168   -0.207385  -0.183261  -0.103679   0.896178   0.407387  -0.130918   0.192177  0.68    1        1\n",
              "29753   0.269614    3.549755   -5.810353   5.809370   1.538808  -2.269219  -0.824203    0.351070   -3.759059  -4.592390   5.479392  -5.657858  -2.648076  -10.384890  -0.225946  -0.701883   0.409736   0.939604  -1.954300   0.310525   0.371121   -0.322290  -0.549856  -0.520629   1.378210   0.564714   0.553255   0.402400  0.68    1        1\n",
              "29785   0.923764    0.344048   -2.880004   1.721680  -3.019565  -0.639736  -3.801325    1.299096    0.864065  -2.895252   3.028162  -2.549177  -1.560432  -2.971317    1.078895  -4.702012  -4.908099  -1.508873   3.001685   0.170872   0.899931    1.481271   0.725266   0.176960  -1.815638  -0.536517   0.489035  -0.049729  30.30   1        1\n",
              "30852  -2.830984    0.885657    1.199930   2.861292   0.321669   0.289966   1.767760   -2.451050    0.069736   3.245086   0.675288  -0.677096  -0.222741  -0.913787    1.603332  -1.024502   0.022045  -0.940685   0.484759  -1.016923   0.546589    0.334971   0.172106   0.623590  -0.527114  -0.079215  -2.532445   0.311177  104.81  1        1\n",
              "70828   0.196707    1.189757    0.704882   2.891388   0.045555   1.245730  -1.198714   -2.421616   -1.232089   0.324239  -1.273935  -0.868686  -1.181945   1.027584    1.688132   0.256216   0.120608  -0.052346   0.329827   0.646616  -1.328132    0.189311  -0.005524  -0.814708   0.400924   0.286281   0.135215   0.257315  0.76    1        1\n",
              "Length: 233, dtype: int64"
            ]
          },
          "metadata": {},
          "execution_count": 99
        }
      ]
    }
  ]
}